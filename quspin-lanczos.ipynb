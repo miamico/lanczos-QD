{
 "cells": [
  {
   "cell_type": "markdown",
   "metadata": {},
   "source": [
    "# Quspin package"
   ]
  },
  {
   "cell_type": "code",
   "execution_count": 38,
   "metadata": {},
   "outputs": [],
   "source": [
    "from __future__ import print_function, division\n",
    "#\n",
    "import sys,os\n",
    "os.environ['KMP_DUPLICATE_LIB_OK']='True' # uncomment this line if omp error occurs on OSX for python 3\n",
    "os.environ['OMP_NUM_THREADS']='1' # set number of OpenMP threads to run in parallel\n",
    "os.environ['MKL_NUM_THREADS']='1' # set number of MKL threads to run in parallel\n",
    "#\n",
    "quspin_path = os.path.join(os.getcwd(),\"../../\")\n",
    "sys.path.insert(0,quspin_path)\n",
    "#######################################################################\n",
    "#                            example 20                               #\t\n",
    "# This example shows how to use the `Lanczos` submodule of the        #\n",
    "# `tools` module to compute the time evolution of a quantum state     #\n",
    "# and how to find ground states of hermitian Hamiltonians.            #\n",
    "#######################################################################\n",
    "from quspin.basis import spin_basis_1d\n",
    "from quspin.operators import hamiltonian\n",
    "from scipy.sparse.linalg import expm_multiply\n",
    "from quspin.tools.lanczos import lanczos_full,lanczos_iter,lin_comb_Q_T,expm_lanczos\n",
    "import numpy as np\n",
    "import scipy.linalg as sla\n",
    "from scipy.linalg import expm\n",
    "#\n",
    "np.random.seed(17) # set random seed, cf initial state below\n",
    "\n",
    "import time"
   ]
  },
  {
   "cell_type": "markdown",
   "metadata": {},
   "source": [
    "### Define Hamiltonian"
   ]
  },
  {
   "cell_type": "code",
   "execution_count": 26,
   "metadata": {},
   "outputs": [
    {
     "name": "stdout",
     "output_type": "stream",
     "text": [
      "\n",
      "Hilbert space dimension: 2518.\n",
      "\n",
      "Hermiticity check passed!\n",
      "Particle conservation check passed!\n"
     ]
    },
    {
     "name": "stderr",
     "output_type": "stream",
     "text": [
      "/var/folders/dk/j4n5f_1d3xs7m8bq81g9gfk80000gn/T/ipykernel_17498/972311464.py:11: UserWarning: Test for symmetries not implemented for <class 'quspin.basis.basis_1d.spin.spin_basis_1d'>, to turn off this warning set check_symm=False in hamiltonian\n",
      "  H = hamiltonian(static,[],basis=basis,dtype=np.float64)\n"
     ]
    }
   ],
   "source": [
    "\n",
    "#\n",
    "##### Heisenberg model\n",
    "L = 20 # system size\n",
    "dt= 0.1 # unitary evolution time step\n",
    "# basis object\n",
    "basis = spin_basis_1d(L,m=0,kblock=0,pblock=1,zblock=1,pauli=False)\n",
    "print(\"\\nHilbert space dimension: {}.\\n\".format(basis.Ns))\n",
    "# Heisenberg Hamiltonian\n",
    "J_list = [[1.0,i,(i+1)%L] for i in range(L)]\n",
    "static = [[op,J_list] for op in [\"xx\",\"yy\",\"zz\"]]\n",
    "H = hamiltonian(static,[],basis=basis,dtype=np.float64)"
   ]
  },
  {
   "cell_type": "markdown",
   "metadata": {},
   "source": [
    "### Time evolution"
   ]
  },
  {
   "cell_type": "code",
   "execution_count": 40,
   "metadata": {},
   "outputs": [
    {
     "name": "stdout",
     "output_type": "stream",
     "text": [
      "\n",
      "checking lanczos matrix exponential calculation:\n",
      "\n",
      "finished unitary evolution step: 0.\n",
      "finished unitary evolution step: 1.\n",
      "\n",
      "time evolution complete.\n",
      "\n"
     ]
    }
   ],
   "source": [
    "\n",
    "#\n",
    "##### Lanczos time evolution calculation\n",
    "#\n",
    "m_evo=20 # Krylov subspace dimension\n",
    "#\n",
    "# initial states\n",
    "v0 = np.random.normal(0,1,size=basis.Ns)\n",
    "v0 /= np.linalg.norm(v0)\n",
    "# make copies to test the lanczos routines independently\n",
    "v_expm = v0.copy()\n",
    "v_expm_multiply = v0.copy()\n",
    "v_lanczos_full  = v0.copy()\n",
    "v_lanczos_iter  = v0.copy()\n",
    "\n",
    "iterations = 2\n",
    "\n",
    "all_expm_times = 0\n",
    "all_expm_sparse_times = 0\n",
    "all_lanczos_1_times = 0\n",
    "all_lanczos_2_times = 0\n",
    "print(\"\\nchecking lanczos matrix exponential calculation:\\n\")\n",
    "for i in range(iterations):\n",
    "\n",
    "\t# evolve quantum state using different routines\n",
    "\texpm_init_time = time.time()\n",
    "\texp_H = expm(-1j*dt*H.static)\n",
    "\tv_expm = exp_H.dot(v_expm)\n",
    "\texpm_start_time = time.time()\n",
    "\tv_expm_multiply = expm_multiply(-1j*dt*H.static,v_expm_multiply) # cf tools.expm_multiply_parallel with OMP speedup\n",
    "\texpm_end_time = time.time()\n",
    "\t# compute Lanczos decomposition\n",
    "\tE_full,V_full,Q_full = lanczos_full(H,v_lanczos_full,m_evo) # all Lanczps vectors at once\n",
    "\tv_lanczos_full = expm_lanczos(E_full,V_full,Q_full,a=-1j*dt)\n",
    "\tlanczos_1_end_time = time.time()\n",
    "\tE_iter,V_iter,Q_iter = lanczos_iter(H,v_lanczos_iter,m_evo) # Lanczos vectors as an iterator\n",
    "\tv_lanczos_iter = expm_lanczos(E_iter,V_iter,Q_iter,a=-1j*dt)\n",
    "\tlanczos_2_end_time = time.time()\n",
    "\t# test results against each other\n",
    "\tnp.testing.assert_allclose(v_lanczos_full,v_expm_multiply,atol=1e-10,rtol=0)\n",
    "\tnp.testing.assert_allclose(v_lanczos_iter,v_expm_multiply,atol=1e-10,rtol=0)\n",
    "\t#\n",
    "\tprint(\"finished unitary evolution step: {0:d}.\".format(i))\n",
    "\n",
    "\tall_expm_times += (expm_start_time- expm_init_time)/iterations\n",
    "\tall_expm_sparse_times += (expm_end_time - expm_start_time)/iterations\n",
    "\tall_lanczos_1_times += (lanczos_1_end_time - expm_end_time)/iterations\n",
    "\tall_lanczos_2_times += (lanczos_2_end_time - lanczos_1_end_time)/iterations\n",
    "\t#\n",
    "print(\"\\ntime evolution complete.\\n\")\n",
    "# "
   ]
  },
  {
   "cell_type": "code",
   "execution_count": 42,
   "metadata": {},
   "outputs": [
    {
     "name": "stdout",
     "output_type": "stream",
     "text": [
      "Average exponentiation time: 29894.451141357422 ms\n",
      "Average sparse exponentiation multiplication time: 4.702448844909668 ms\n",
      "Average Lanczos 1 time: 1.9799470901489258 ms\n",
      "Average Lanczos 2 time: 3.204941749572754 ms\n"
     ]
    }
   ],
   "source": [
    "print('Average exponentiation time:', all_expm_times*1e3, 'ms')\n",
    "print('Average sparse exponentiation multiplication time:', all_expm_sparse_times*1e3, 'ms')\n",
    "print('Average Lanczos 1 time:', all_lanczos_1_times*1e3, 'ms')\n",
    "print('Average Lanczos 2 time:', all_lanczos_2_times*1e3, 'ms')"
   ]
  },
  {
   "cell_type": "markdown",
   "metadata": {},
   "source": [
    "### Ground state"
   ]
  },
  {
   "cell_type": "code",
   "execution_count": 24,
   "metadata": {},
   "outputs": [
    {
     "name": "stdout",
     "output_type": "stream",
     "text": [
      "\n",
      "ground state calculation complete.\n",
      "\n"
     ]
    }
   ],
   "source": [
    "###### Lanczos ground state calculation\n",
    "#\n",
    "# compute exact GS data\n",
    "E_GS,psi_GS = H.eigsh(k=1,which=\"SA\")\n",
    "psi_GS = psi_GS.ravel()\n",
    "#\n",
    "###### apply Lanczos\n",
    "# initial state for Lanczos algorithm \n",
    "v0 = np.random.normal(0,1,size=basis.Ns)\n",
    "v0 /= np.linalg.norm(v0)\n",
    "#\n",
    "m_GS=50 # Krylov subspace dimension\n",
    "#\n",
    "# Lanczos finds the largest-magnitude eigenvalues: \n",
    "E,V,Q_T = lanczos_full(H,v0,m_GS,full_ortho=False)\n",
    "#\n",
    "# check GS energy convergence\n",
    "try:\n",
    "\t# compute difference to exact GS energy value\n",
    "\tdE = np.abs(E[0]-E_GS[0])\n",
    "\tassert(dE < 1e-10)\n",
    "except AssertionError:\n",
    "\traise AssertionError(\"Energy failed to converge |E_lanczos-E_exact| = {} > 1e-10\".format(dE))\n",
    "#\n",
    "# compute ground state vector\n",
    "psi_GS_lanczos = lin_comb_Q_T(V[:,0],Q_T)\n",
    "# check ground state convergence\n",
    "try:\n",
    "\t# compute fidelity of being in exact GS\n",
    "\tF = np.abs(np.log(np.abs(np.vdot(psi_GS_lanczos,psi_GS))))\n",
    "\tassert(F < 1e-10)\n",
    "except AssertionError:\n",
    "\traise AssertionError(\"wavefunction failed to converge to fidelity = {} > 1e-10\".format(F))\n",
    "#\n",
    "print(\"\\nground state calculation complete.\\n\")"
   ]
  },
  {
   "cell_type": "code",
   "execution_count": 20,
   "metadata": {},
   "outputs": [
    {
     "data": {
      "text/plain": [
       "array([-0.00111592,  0.00882543, -0.01428276, -0.00802769,  0.14433408,\n",
       "       -0.04191706,  0.0643137 , -0.22738223, -0.16821362,  0.65043087,\n",
       "       -0.19055985, -0.12789228, -0.64590905])"
      ]
     },
     "execution_count": 20,
     "metadata": {},
     "output_type": "execute_result"
    }
   ],
   "source": [
    "psi_GS_lanczos"
   ]
  },
  {
   "cell_type": "code",
   "execution_count": 21,
   "metadata": {},
   "outputs": [
    {
     "data": {
      "text/plain": [
       "array([-0.00111594,  0.00882547, -0.01428284, -0.00802769,  0.14433414,\n",
       "       -0.04191704,  0.06431378, -0.22738225, -0.1682136 ,  0.65043075,\n",
       "       -0.19055983, -0.12789225, -0.64590916])"
      ]
     },
     "execution_count": 21,
     "metadata": {},
     "output_type": "execute_result"
    }
   ],
   "source": [
    "psi_GS"
   ]
  },
  {
   "cell_type": "code",
   "execution_count": null,
   "metadata": {},
   "outputs": [],
   "source": []
  }
 ],
 "metadata": {
  "interpreter": {
   "hash": "42f5c2048cf206f84fe57eb161255e69d21c68a9a9ca7657bad5b5286599a39f"
  },
  "kernelspec": {
   "display_name": "Python 3.9.12 ('lanczos_env')",
   "language": "python",
   "name": "python3"
  },
  "language_info": {
   "codemirror_mode": {
    "name": "ipython",
    "version": 3
   },
   "file_extension": ".py",
   "mimetype": "text/x-python",
   "name": "python",
   "nbconvert_exporter": "python",
   "pygments_lexer": "ipython3",
   "version": "3.9.12"
  },
  "orig_nbformat": 4
 },
 "nbformat": 4,
 "nbformat_minor": 2
}
